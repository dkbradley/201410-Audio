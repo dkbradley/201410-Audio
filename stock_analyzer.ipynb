{
  "nbformat": 4,
  "nbformat_minor": 0,
  "metadata": {
    "kernelspec": {
      "display_name": "Python 3",
      "language": "python",
      "name": "python3"
    },
    "language_info": {
      "codemirror_mode": {
        "name": "ipython",
        "version": 3
      },
      "file_extension": ".py",
      "mimetype": "text/x-python",
      "name": "python",
      "nbconvert_exporter": "python",
      "pygments_lexer": "ipython3",
      "version": "3.8.1"
    },
    "colab": {
      "name": "stock_analyzer.ipynb",
      "provenance": [],
      "include_colab_link": true
    }
  },
  "cells": [
    {
      "cell_type": "markdown",
      "metadata": {
        "id": "view-in-github",
        "colab_type": "text"
      },
      "source": [
        "<a href=\"https://colab.research.google.com/github/dkbradley/201410-Audio/blob/master/stock_analyzer.ipynb\" target=\"_parent\"><img src=\"https://colab.research.google.com/assets/colab-badge.svg\" alt=\"Open In Colab\"/></a>"
      ]
    },
    {
      "cell_type": "code",
      "metadata": {
        "id": "b8ZgKftVMYPA"
      },
      "source": [
        "# @hidden_cell\n",
        "import pandas as pd\n",
        "import numpy as np\n",
        "import matplotlib.pyplot as plt\n",
        "import datetime as dt"
      ],
      "execution_count": null,
      "outputs": []
    },
    {
      "cell_type": "markdown",
      "metadata": {
        "id": "b1ewgbW3MYPM"
      },
      "source": [
        "Pull stock information by updating the filepath variable\n",
        "Example: stockfile = 'stock.csv' (When it is in the same folder as this file)\n",
        "This is configured to interpret stocks from a CSV file. Export available from Yahoo Finance."
      ]
    },
    {
      "cell_type": "code",
      "metadata": {
        "id": "SIKVG32eMYPO"
      },
      "source": [
        "# @hidden_cell\n",
        "stockfile = 'T.csv'"
      ],
      "execution_count": null,
      "outputs": []
    },
    {
      "cell_type": "code",
      "metadata": {
        "id": "Y5a5bZoaMYPT"
      },
      "source": [
        "# @hidden_cell\n",
        "stock = pd.read_csv(stockfile)"
      ],
      "execution_count": null,
      "outputs": []
    },
    {
      "cell_type": "code",
      "metadata": {
        "id": "tLSHrCj2MYPZ"
      },
      "source": [
        "# @hidden_cell\n",
        "DayOfWeek={0:'Monday', 1:'Tuesday', 2:'Wednesday', 3:'Thursday', 4:'Friday', 5:'Saturday', 6:'Sunday'}\n",
        "stock['Date'] = pd.to_datetime(stock.Date)\n",
        "stock['Weekday'] = stock.Date.dt.dayofweek\n",
        "stock['Date'] = stock['Date'].dt.strftime('%m/%d/%Y')"
      ],
      "execution_count": null,
      "outputs": []
    },
    {
      "cell_type": "code",
      "metadata": {
        "id": "b3-6MF8sMYPh"
      },
      "source": [
        "# @hidden_cell\n",
        "stock['Difference'] = stock['Adj Close'] - stock['Open']\n",
        "conditions = [\n",
        "    (stock['Difference'] == 0),\n",
        "    (stock['Difference'] < 0),\n",
        "    (stock['Difference'] > 0)]\n",
        "choices = ['Break', 'Loss', 'Gain']\n",
        "stock['LossGain'] = np.select(conditions, choices, default='undefined')\n",
        "#stock['LossGain'] = np.where(stock['Difference']<0, 'Loss', 'Gain')\n",
        "pd.options.display.float_format = \"{:,.2f}\".format"
      ],
      "execution_count": null,
      "outputs": []
    },
    {
      "cell_type": "code",
      "metadata": {
        "id": "P5RHPq28MYPl",
        "outputId": "65367c6c-b961-4068-f168-e03b2836b68a"
      },
      "source": [
        "# @hidden_cell\n",
        "\n",
        "#Calculations\n",
        "break_count = stock['LossGain'][stock.LossGain == 'Break'].count()\n",
        "loss_count = stock['LossGain'][stock.LossGain == 'Loss'].count()\n",
        "gain_count = stock['LossGain'][stock.LossGain == 'Gain'].count()\n",
        "total = loss_count + gain_count + break_count\n",
        "break_per = break_count / total\n",
        "gain_per = gain_count / total\n",
        "loss_per = loss_count / total\n",
        "\n",
        "#Output information to the user\n",
        "print('Filename: ', stockfile)\n",
        "print('Year To Date')\n",
        "print('')\n",
        "print('Break Percentage: ', '{:.2%}'.format(break_per), ' Breaks: ', break_count)\n",
        "print('Loss Percentage: ', '{:.2%}'.format(loss_per), ' Losses: ', loss_count)\n",
        "print('Gain Percentage: ', '{:.2%}'.format(gain_per), ' Gains:  ', gain_count)\n",
        "print('Total Percentage: 100.00%', 'Total: ', total)\n",
        "print('')\n",
        "print('Average Per Day: ', '${:.2}'.format(stock['Difference'].mean()))\n",
        "print('Average Loss:', '${:1.2f}'.format(stock['Difference'][stock.LossGain == 'Loss'].mean()))\n",
        "print('Average Gain:', '${:1.2f}'.format(stock['Difference'][stock.LossGain == 'Gain'].mean()))\n",
        "print('')\n",
        "print('Standard Deviation: ', '{:1.2f}'.format(stock['Difference'].std()))\n",
        "\n",
        "#Calculate Frequency Gain\n",
        "counter = 0\n",
        "gain_list = []\n",
        "gain_count = 0\n",
        "for item in stock['LossGain']:\n",
        "    if item == 'Gain':\n",
        "        gain_count += 1\n",
        "    else:\n",
        "        if gain_count == 0:\n",
        "            pass\n",
        "        else:\n",
        "            gain_list.append(gain_count)\n",
        "            gain_count = 0\n",
        "#Calculate Frequency Loss\n",
        "counter = 0\n",
        "loss_list = []\n",
        "loss_count = 0\n",
        "for item in stock['LossGain']:\n",
        "    if item == 'Loss':\n",
        "        loss_count += 1\n",
        "    else:\n",
        "        if loss_count == 0:\n",
        "            pass\n",
        "        else:\n",
        "            loss_list.append(loss_count)\n",
        "            loss_count = 0\n",
        "            \n",
        "df_gain = pd.DataFrame(gain_list)\n",
        "df_loss = pd.DataFrame(loss_list)\n",
        "print('Frequency Loss: ', \"{:1.2f}\".format(float(df_loss.mean())))\n",
        "print('Frequency Gain: ', \"{:1.2f}\".format(float(df_gain.mean())))\n",
        "print('')\n",
        "print('Start: ', '${:1.2f}'.format(stock['Adj Close'][0]))\n",
        "print('Finish: ', '${:1.2f}'.format(stock['Adj Close'].iloc[-1]))\n",
        "percent_change = (stock['Adj Close'][0] - stock['Adj Close'].iloc[-1]) / stock['Adj Close'][0] * 100\n",
        "if percent_change >= 0:\n",
        "    percent_change *= -1\n",
        "    print('Percentage Loss: ', '{:1.2f}%'.format(percent_change))\n",
        "else:\n",
        "    percent_change *= -1\n",
        "    print('Percentage Gain: ', '{:1.2f}%'.format(percent_change))\n",
        "print('')\n",
        "common_gain_day = stock['Weekday'][stock.LossGain == 'Gain'].mode()[0]\n",
        "if common_gain_day == 0:\n",
        "    print('Monday is the most common day for increase.')\n",
        "elif common_gain_day == 1:\n",
        "    print('Tuesday is the most common day for increase.')\n",
        "elif common_gain_day == 2:\n",
        "    print('Wednesday is the most common day for increase.')\n",
        "elif common_gain_day == 3:\n",
        "    print('Thursday is the most common day for increase.')\n",
        "elif common_gain_day == 4:\n",
        "    print('Friday is the most common day for increase.')\n",
        "\n",
        "common_loss_day = stock['Weekday'][stock.LossGain == 'Loss'].mode()[0]\n",
        "if common_loss_day == 0:\n",
        "    print('Monday is the most common day for loss.')\n",
        "elif common_loss_day == 1:\n",
        "    print('Tuesday is the most common day for loss.')\n",
        "elif common_loss_day == 2:\n",
        "    print('Wednesday is the most common day for loss.')\n",
        "elif common_loss_day == 3:\n",
        "    print('Thursday is the most common day for loss.')\n",
        "elif common_loss_day == 4:\n",
        "    print('Friday is the most common day for loss.')\n",
        "\n",
        "print('')\n",
        "print('Gains by weekday. Where 0 is Monday and 4 is Friday.')\n",
        "stock['Weekday'][stock.LossGain == 'Gain'].plot.hist(grid=True);"
      ],
      "execution_count": null,
      "outputs": [
        {
          "output_type": "stream",
          "text": [
            "Filename:  T.csv\n",
            "Year To Date\n",
            "\n",
            "Break Percentage:  0.40%  Breaks:  1\n",
            "Loss Percentage:  91.27%  Losses:  230\n",
            "Gain Percentage:  8.33%  Gains:   21\n",
            "Total Percentage: 100.00% Total:  252\n",
            "\n",
            "Average Per Day:  $-1.2\n",
            "Average Loss: $-1.36\n",
            "Average Gain: $0.28\n",
            "\n",
            "Standard Deviation:  0.83\n",
            "Frequency Loss:  13.53\n",
            "Frequency Gain:  1.12\n",
            "\n",
            "Start:  $32.42\n",
            "Finish:  $30.20\n",
            "Percentage Loss:  -6.84%\n",
            "\n",
            "Thursday is the most common day for increase.\n",
            "Wednesday is the most common day for loss.\n",
            "\n",
            "Gains by weekday. Where 0 is Monday and 4 is Friday.\n"
          ],
          "name": "stdout"
        },
        {
          "output_type": "display_data",
          "data": {
            "image/png": "[encoded data removed]",
            "text/plain": [
              "<Figure size 432x288 with 1 Axes>"
            ]
          },
          "metadata": {
            "tags": [],
            "needs_background": "light"
          }
        }
      ]
    },
    {
      "cell_type": "code",
      "metadata": {
        "id": "q8woX4J7MYPv",
        "outputId": "f87594e1-94f7-4f9e-8276-16a937e9ba14"
      },
      "source": [
        "# @hidden_cell\n",
        "print('Losses by weekday. Where 0 is Monday and 4 is Friday.')\n",
        "stock['Weekday'][stock.LossGain == 'Loss'].hist(grid=True);"
      ],
      "execution_count": null,
      "outputs": [
        {
          "output_type": "stream",
          "text": [
            "Losses by weekday. Where 0 is Monday and 4 is Friday.\n"
          ],
          "name": "stdout"
        },
        {
          "output_type": "display_data",
          "data": {
            "image/png": "[encoded data removed]",
            "text/plain": [
              "<Figure size 432x288 with 1 Axes>"
            ]
          },
          "metadata": {
            "tags": [],
            "needs_background": "light"
          }
        }
      ]
    },
    {
      "cell_type": "code",
      "metadata": {
        "id": "PYEshGy1MYP4"
      },
      "source": [
        "# @hidden_cell\n",
        "stock7 = stock.iloc[-8:-1]\n",
        "stock30 = stock.iloc[-30:]\n",
        "stock7.reset_index(drop=True, inplace=True)\n",
        "stock30.reset_index(drop=True, inplace=True)"
      ],
      "execution_count": null,
      "outputs": []
    },
    {
      "cell_type": "code",
      "metadata": {
        "id": "llS70z_pMYP7",
        "outputId": "55d86541-0180-4bad-c3d2-ce5ec16326ab"
      },
      "source": [
        "# @hidden_cell\n",
        "\n",
        "#Calculations\n",
        "break_count = stock30['LossGain'][stock30.LossGain == 'Break'].count()\n",
        "loss_count = stock30['LossGain'][stock30.LossGain == 'Loss'].count()\n",
        "gain_count = stock30['LossGain'][stock30.LossGain == 'Gain'].count()\n",
        "total = loss_count + gain_count + break_count\n",
        "break_per = break_count / total\n",
        "gain_per = gain_count / total\n",
        "loss_per = loss_count / total\n",
        "\n",
        "#Output information to the user\n",
        "print('Filename: ', stockfile)\n",
        "print('Last 30 Days')\n",
        "print('')\n",
        "print('Break Percentage: ', '{:.2%}'.format(break_per), ' Breaks: ', break_count)\n",
        "print('Loss Percentage: ', '{:.2%}'.format(loss_per), ' Losses: ', loss_count)\n",
        "print('Gain Percentage: ', '{:.2%}'.format(gain_per), ' Gains:  ', gain_count)\n",
        "print('Total Percentage: 100.00%', 'Total: ', total)\n",
        "print('')\n",
        "print('Average Per Day: ', '${:.2}'.format(stock30['Difference'].mean()))\n",
        "print('Average Loss:', '${:1.2f}'.format(stock30['Difference'][stock30.LossGain == 'Loss'].mean()))\n",
        "print('Average Gain:', '${:1.2f}'.format(stock30['Difference'][stock30.LossGain == 'Gain'].mean()))\n",
        "print('')\n",
        "print('Standard Deviation: ', '{:1.2f}'.format(stock30['Difference'].std()))\n",
        "\n",
        "#Calculate Frequency Gain\n",
        "counter = 0\n",
        "gain_list = []\n",
        "gain_count = 0\n",
        "for item in stock30['LossGain']:\n",
        "    if item == 'Gain':\n",
        "        gain_count += 1\n",
        "    else:\n",
        "        if gain_count == 0:\n",
        "            pass\n",
        "        else:\n",
        "            gain_list.append(gain_count)\n",
        "            gain_count = 0\n",
        "#Calculate Frequency Loss\n",
        "counter = 0\n",
        "loss_list = []\n",
        "loss_count = 0\n",
        "for item in stock30['LossGain']:\n",
        "    if item == 'Loss':\n",
        "        loss_count += 1\n",
        "    else:\n",
        "        if loss_count == 0:\n",
        "            pass\n",
        "        else:\n",
        "            loss_list.append(loss_count)\n",
        "            loss_count = 0\n",
        "            \n",
        "df_gain = pd.DataFrame(gain_list)\n",
        "df_loss = pd.DataFrame(loss_list)\n",
        "print('Frequency Loss: ', \"{:1.2f}\".format(float(df_loss.mean())))\n",
        "print('Frequency Gain: ', \"{:1.2f}\".format(float(df_gain.mean())))\n",
        "print('')\n",
        "print('Start: ', '${:1.2f}'.format(stock30['Adj Close'][0]))\n",
        "print('Finish: ', '${:1.2f}'.format(stock30['Adj Close'].iloc[-1]))\n",
        "percent_change = (stock30['Adj Close'][0] - stock30['Adj Close'].iloc[-1]) / stock30['Adj Close'][0] * 100\n",
        "if percent_change >= 0:\n",
        "    print('Percentage Loss: ', '{:1.2f}%'.format(percent_change))\n",
        "else:\n",
        "    percent_change *= -1\n",
        "    print('Percentage Gain: ', '{:1.2f}%'.format(percent_change))\n",
        "print('')\n",
        "common_gain_day = stock30['Weekday'][stock30.LossGain == 'Gain'].mode()[0]\n",
        "if common_gain_day == 0:\n",
        "    print('Monday is the most common day for increase.')\n",
        "elif common_gain_day == 1:\n",
        "    print('Tuesday is the most common day for increase.')\n",
        "elif common_gain_day == 2:\n",
        "    print('Wednesday is the most common day for increase.')\n",
        "elif common_gain_day == 3:\n",
        "    print('Thursday is the most common day for increase.')\n",
        "elif common_gain_day == 4:\n",
        "    print('Friday is the most common day for increase.')\n",
        "\n",
        "common_loss_day = stock30['Weekday'][stock30.LossGain == 'Loss'].mode()[0]\n",
        "if common_loss_day == 0:\n",
        "    print('Monday is the most common day for loss.')\n",
        "elif common_loss_day == 1:\n",
        "    print('Tuesday is the most common day for loss.')\n",
        "elif common_loss_day == 2:\n",
        "    print('Wednesday is the most common day for loss.')\n",
        "elif common_loss_day == 3:\n",
        "    print('Thursday is the most common day for loss.')\n",
        "elif common_loss_day == 4:\n",
        "    print('Friday is the most common day for loss.')\n",
        "\n",
        "print('')\n",
        "print('Gains by weekday. Where 0 is Monday and 4 is Friday.')\n",
        "gain_chart = stock30['Weekday'][stock30.LossGain == 'Gain'].hist(grid=True);\n",
        "gain_chart;"
      ],
      "execution_count": null,
      "outputs": [
        {
          "output_type": "stream",
          "text": [
            "Filename:  T.csv\n",
            "Last 30 Days\n",
            "\n",
            "Break Percentage:  3.33%  Breaks:  1\n",
            "Loss Percentage:  56.67%  Losses:  17\n",
            "Gain Percentage:  40.00%  Gains:   12\n",
            "Total Percentage: 100.00% Total:  30\n",
            "\n",
            "Average Per Day:  $-0.089\n",
            "Average Loss: $-0.35\n",
            "Average Gain: $0.27\n",
            "\n",
            "Standard Deviation:  0.35\n",
            "Frequency Loss:  2.12\n",
            "Frequency Gain:  1.12\n",
            "\n",
            "Start:  $29.40\n",
            "Finish:  $30.20\n",
            "Percentage Gain:  2.72%\n",
            "\n",
            "Tuesday is the most common day for increase.\n",
            "Monday is the most common day for loss.\n",
            "\n",
            "Gains by weekday. Where 0 is Monday and 4 is Friday.\n"
          ],
          "name": "stdout"
        },
        {
          "output_type": "display_data",
          "data": {
            "image/png": "[encoded data removed]",
            "text/plain": [
              "<Figure size 432x288 with 1 Axes>"
            ]
          },
          "metadata": {
            "tags": [],
            "needs_background": "light"
          }
        }
      ]
    },
    {
      "cell_type": "code",
      "metadata": {
        "id": "YUlEWUnDMYQB",
        "outputId": "a116e6e0-c348-4f15-fbbe-f54d111a1465"
      },
      "source": [
        "print('Losses by weekday. Where 0 is Monday and 4 is Friday.')\n",
        "loss_chart = stock30['Weekday'][stock30.LossGain == 'Loss'].hist(grid=True);\n",
        "loss_chart;"
      ],
      "execution_count": null,
      "outputs": [
        {
          "output_type": "stream",
          "text": [
            "Losses by weekday. Where 0 is Monday and 4 is Friday.\n"
          ],
          "name": "stdout"
        },
        {
          "output_type": "display_data",
          "data": {
            "image/png": "[encoded data removed]",
            "text/plain": [
              "<Figure size 432x288 with 1 Axes>"
            ]
          },
          "metadata": {
            "tags": [],
            "needs_background": "light"
          }
        }
      ]
    },
    {
      "cell_type": "code",
      "metadata": {
        "id": "qnN0IrCFMYQF"
      },
      "source": [
        ""
      ],
      "execution_count": null,
      "outputs": []
    },
    {
      "cell_type": "code",
      "metadata": {
        "id": "8FgsnLTIMYQJ"
      },
      "source": [
        ""
      ],
      "execution_count": null,
      "outputs": []
    }
  ]
}